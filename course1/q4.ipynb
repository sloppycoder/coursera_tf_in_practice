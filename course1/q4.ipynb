{
 "nbformat": 4,
 "nbformat_minor": 2,
 "metadata": {
  "language_info": {
   "name": "python",
   "codemirror_mode": {
    "name": "ipython",
    "version": 3
   },
   "version": "3.6.9-final"
  },
  "orig_nbformat": 2,
  "file_extension": ".py",
  "mimetype": "text/x-python",
  "name": "python",
  "npconvert_exporter": "python",
  "pygments_lexer": "ipython3",
  "version": 3,
  "kernelspec": {
   "name": "python36964bitvenvvirtualenvb1a14ceb181843f5a308e2c775d86e36",
   "display_name": "Python 3.6.9 64-bit ('venv': virtualenv)"
  }
 },
 "cells": [
  {
   "cell_type": "code",
   "execution_count": 1,
   "metadata": {},
   "outputs": [
    {
     "name": "stdout",
     "output_type": "stream",
     "text": "WARNING:tensorflow:From /home/lee/Projects/tf/venv/lib/python3.6/site-packages/tensorflow_core/python/compat/v2_compat.py:88: disable_resource_variables (from tensorflow.python.ops.variable_scope) is deprecated and will be removed in a future version.\nInstructions for updating:\nnon-resource variables are not supported in the long term\nWARNING:tensorflow:From /home/lee/Projects/tf/venv/lib/python3.6/site-packages/tensorflow_core/python/ops/resource_variable_ops.py:1635: calling BaseResourceVariable.__init__ (from tensorflow.python.ops.resource_variable_ops) with constraint is deprecated and will be removed in a future version.\nInstructions for updating:\nIf using Keras pass *_constraint arguments to layers.\nModel: \"sequential\"\n_________________________________________________________________\nLayer (type)                 Output Shape              Param #   \n=================================================================\nconv2d (Conv2D)              (None, 148, 148, 16)      448       \n_________________________________________________________________\nmax_pooling2d (MaxPooling2D) (None, 74, 74, 16)        0         \n_________________________________________________________________\nconv2d_1 (Conv2D)            (None, 72, 72, 32)        4640      \n_________________________________________________________________\nmax_pooling2d_1 (MaxPooling2 (None, 36, 36, 32)        0         \n_________________________________________________________________\nconv2d_2 (Conv2D)            (None, 34, 34, 64)        18496     \n_________________________________________________________________\nmax_pooling2d_2 (MaxPooling2 (None, 17, 17, 64)        0         \n_________________________________________________________________\nflatten (Flatten)            (None, 18496)             0         \n_________________________________________________________________\ndense (Dense)                (None, 512)               9470464   \n_________________________________________________________________\ndense_1 (Dense)              (None, 1)                 513       \n=================================================================\nTotal params: 9,494,561\nTrainable params: 9,494,561\nNon-trainable params: 0\n_________________________________________________________________\nNone\nFound 80 images belonging to 2 classes.\nEpoch 1/15\n8/8 [==============================] - 3s 322ms/step - loss: 2.0930 - acc: 0.5469\nEpoch 2/15\n8/8 [==============================] - 1s 99ms/step - loss: 0.5137 - acc: 0.6906\nEpoch 3/15\n8/8 [==============================] - 1s 100ms/step - loss: 0.2777 - acc: 0.8703\nEpoch 4/15\n8/8 [==============================] - 1s 100ms/step - loss: 0.1446 - acc: 0.9656\nEpoch 5/15\n8/8 [==============================] - 1s 100ms/step - loss: 0.1174 - acc: 0.9688\nEpoch 6/15\n8/8 [==============================] - 1s 102ms/step - loss: 0.0560 - acc: 0.9797\nEpoch 7/15\n8/8 [==============================] - 1s 99ms/step - loss: 0.0320 - acc: 0.9937\nEpoch 8/15\n8/8 [==============================] - 1s 100ms/step - loss: 0.0177 - acc: 1.0000\nEpoch 9/15\n8/8 [==============================] - 1s 100ms/step - loss: 0.0045 - acc: 1.0000\nEpoch 10/15\n8/8 [==============================] - 1s 100ms/step - loss: 0.0026 - acc: 1.0000\nEpoch 11/15\n8/8 [==============================] - 1s 100ms/step - loss: 0.4419 - acc: 0.8766\nEpoch 12/15\n8/8 [==============================] - 1s 101ms/step - loss: 0.0059 - acc: 1.0000\nEpoch 13/15\n8/8 [==============================] - 1s 100ms/step - loss: 0.0032 - acc: 1.0000\nEpoch 14/15\n8/8 [==============================] - 1s 100ms/step - loss: 0.0019 - acc: 1.0000\nEpoch 15/15\n8/8 [==============================] - 1s 101ms/step - loss: 0.0012 - acc: 1.0000\naccuracy = 1.0\n\n"
    }
   ],
   "source": [
    "# import tensorflow as tf\n",
    "import tensorflow.compat.v1 as tf\n",
    "import os\n",
    "\n",
    "tf.disable_v2_behavior()\n",
    "\n",
    "DESIRED_ACCURACY = 0.999\n",
    "\n",
    "\n",
    "class myCallback(tf.keras.callbacks.Callback):\n",
    "    def on_epoch_end(self, epoch, logs={}):\n",
    "        print(logs)\n",
    "        if logs.get('acc') >= DESIRED_ACCURACY:\n",
    "            self.model.stop_training = True\n",
    "            print(\"\\nReached 99.8% accuracy so cancelling training!\")\n",
    "\n",
    "\n",
    "callbacks = myCallback()\n",
    "\n",
    "model = tf.keras.models.Sequential([\n",
    "    tf.keras.layers.Conv2D(16, (3, 3), activation='relu',\n",
    "                           input_shape=(150, 150, 3)),\n",
    "    tf.keras.layers.MaxPooling2D(2, 2),\n",
    "    tf.keras.layers.Conv2D(32, (3, 3), activation='relu'),\n",
    "    tf.keras.layers.MaxPooling2D(2, 2),\n",
    "    tf.keras.layers.Conv2D(64, (3, 3), activation='relu'),\n",
    "    tf.keras.layers.MaxPooling2D(2, 2),\n",
    "    tf.keras.layers.Flatten(),\n",
    "    tf.keras.layers.Dense(512, activation='relu'),\n",
    "    tf.keras.layers.Dense(1, activation='sigmoid')\n",
    "])\n",
    "\n",
    "# model = tf.keras.models.Sequential([\n",
    "#     tf.keras.layers.Conv2D(16, (3, 3), activation=tf.nn.relu,\n",
    "#                            input_shape=(150, 150, 3)),\n",
    "#     tf.keras.layers.MaxPooling2D(2, 2),\n",
    "#     tf.keras.layers.Conv2D(32, (3, 3), activation=tf.nn.relu),\n",
    "#     tf.keras.layers.MaxPooling2D(2, 2),\n",
    "#     tf.keras.layers.Conv2D(64, (3, 3), activation=tf.nn.relu),\n",
    "#     tf.keras.layers.MaxPooling2D(2, 2),\n",
    "#     tf.keras.layers.Flatten(),\n",
    "#     tf.keras.layers.Dense(512, activation=tf.nn.relu),\n",
    "#     tf.keras.layers.Dense(1, activation=tf.nn.sigmoid)\n",
    "# ])\n",
    "print(model.summary())\n",
    "\n",
    "model.compile(loss='binary_crossentropy',\n",
    "              optimizer=tf.keras.optimizers.RMSprop(lr=0.001),\n",
    "              metrics=['acc'])\n",
    "\n",
    "train_datagen = tf.keras.preprocessing.image.ImageDataGenerator(rescale=1/255)\n",
    "\n",
    "train_generator = train_datagen.flow_from_directory(\n",
    "    os.path.expanduser('~/tmp/h-or-s/'),\n",
    "    target_size=(150, 150),\n",
    "    batch_size=128,\n",
    "    class_mode='binary')\n",
    "# Expected output: 'Found 80 images belonging to 2 classes'\n",
    "\n",
    "history = model.fit(train_generator,\n",
    "                    steps_per_epoch=8,\n",
    "                    epochs=15,\n",
    "                    verbose=1)\n",
    "# callbacks=[callbacks])\n",
    "\n",
    "print(f\"accuracy = { history.history['acc'][-1] }\\n\")\n"
   ]
  },
  {
   "cell_type": "code",
   "execution_count": null,
   "metadata": {},
   "outputs": [],
   "source": []
  }
 ]
}